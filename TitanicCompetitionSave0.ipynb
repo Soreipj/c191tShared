{
 "cells": [
  {
   "cell_type": "code",
   "execution_count": 29,
   "metadata": {},
   "outputs": [],
   "source": [
    "import pandas as pd\n",
    "from matplotlib import pyplot as plt\n",
    "import matplotlib\n",
    "matplotlib.style.use('ggplot')\n",
    "import numpy as np\n",
    "\n",
    "from sklearn import cross_validation\n",
    "\n",
    "\n",
    "df = pd.read_csv('/Users/jasonpieros/Downloads/train.csv',header=0)\n"
   ]
  },
  {
   "cell_type": "code",
   "execution_count": 30,
   "metadata": {},
   "outputs": [
    {
     "name": "stdout",
     "output_type": "stream",
     "text": [
      "<class 'pandas.core.frame.DataFrame'>\n",
      "RangeIndex: 891 entries, 0 to 890\n",
      "Data columns (total 12 columns):\n",
      "PassengerId    891 non-null int64\n",
      "Survived       891 non-null int64\n",
      "Pclass         891 non-null int64\n",
      "Name           891 non-null object\n",
      "Sex            891 non-null object\n",
      "Age            714 non-null float64\n",
      "SibSp          891 non-null int64\n",
      "Parch          891 non-null int64\n",
      "Ticket         891 non-null object\n",
      "Fare           891 non-null float64\n",
      "Cabin          204 non-null object\n",
      "Embarked       889 non-null object\n",
      "dtypes: float64(2), int64(5), object(5)\n",
      "memory usage: 83.6+ KB\n"
     ]
    }
   ],
   "source": [
    "df.info()"
   ]
  },
  {
   "cell_type": "code",
   "execution_count": 31,
   "metadata": {
    "collapsed": true
   },
   "outputs": [],
   "source": [
    "cols = ['Name','Ticket','Cabin']\n",
    "df = df.drop(cols,axis=1)"
   ]
  },
  {
   "cell_type": "code",
   "execution_count": 32,
   "metadata": {},
   "outputs": [
    {
     "name": "stdout",
     "output_type": "stream",
     "text": [
      "('With NA:',      PassengerId  Survived  Pclass     Sex   Age  SibSp  Parch      Fare  \\\n",
      "0              1         0       3    male  22.0      1      0    7.2500   \n",
      "1              2         1       1  female  38.0      1      0   71.2833   \n",
      "2              3         1       3  female  26.0      0      0    7.9250   \n",
      "3              4         1       1  female  35.0      1      0   53.1000   \n",
      "4              5         0       3    male  35.0      0      0    8.0500   \n",
      "5              6         0       3    male   NaN      0      0    8.4583   \n",
      "6              7         0       1    male  54.0      0      0   51.8625   \n",
      "7              8         0       3    male   2.0      3      1   21.0750   \n",
      "8              9         1       3  female  27.0      0      2   11.1333   \n",
      "9             10         1       2  female  14.0      1      0   30.0708   \n",
      "10            11         1       3  female   4.0      1      1   16.7000   \n",
      "11            12         1       1  female  58.0      0      0   26.5500   \n",
      "12            13         0       3    male  20.0      0      0    8.0500   \n",
      "13            14         0       3    male  39.0      1      5   31.2750   \n",
      "14            15         0       3  female  14.0      0      0    7.8542   \n",
      "15            16         1       2  female  55.0      0      0   16.0000   \n",
      "16            17         0       3    male   2.0      4      1   29.1250   \n",
      "17            18         1       2    male   NaN      0      0   13.0000   \n",
      "18            19         0       3  female  31.0      1      0   18.0000   \n",
      "19            20         1       3  female   NaN      0      0    7.2250   \n",
      "20            21         0       2    male  35.0      0      0   26.0000   \n",
      "21            22         1       2    male  34.0      0      0   13.0000   \n",
      "22            23         1       3  female  15.0      0      0    8.0292   \n",
      "23            24         1       1    male  28.0      0      0   35.5000   \n",
      "24            25         0       3  female   8.0      3      1   21.0750   \n",
      "25            26         1       3  female  38.0      1      5   31.3875   \n",
      "26            27         0       3    male   NaN      0      0    7.2250   \n",
      "27            28         0       1    male  19.0      3      2  263.0000   \n",
      "28            29         1       3  female   NaN      0      0    7.8792   \n",
      "29            30         0       3    male   NaN      0      0    7.8958   \n",
      "..           ...       ...     ...     ...   ...    ...    ...       ...   \n",
      "861          862         0       2    male  21.0      1      0   11.5000   \n",
      "862          863         1       1  female  48.0      0      0   25.9292   \n",
      "863          864         0       3  female   NaN      8      2   69.5500   \n",
      "864          865         0       2    male  24.0      0      0   13.0000   \n",
      "865          866         1       2  female  42.0      0      0   13.0000   \n",
      "866          867         1       2  female  27.0      1      0   13.8583   \n",
      "867          868         0       1    male  31.0      0      0   50.4958   \n",
      "868          869         0       3    male   NaN      0      0    9.5000   \n",
      "869          870         1       3    male   4.0      1      1   11.1333   \n",
      "870          871         0       3    male  26.0      0      0    7.8958   \n",
      "871          872         1       1  female  47.0      1      1   52.5542   \n",
      "872          873         0       1    male  33.0      0      0    5.0000   \n",
      "873          874         0       3    male  47.0      0      0    9.0000   \n",
      "874          875         1       2  female  28.0      1      0   24.0000   \n",
      "875          876         1       3  female  15.0      0      0    7.2250   \n",
      "876          877         0       3    male  20.0      0      0    9.8458   \n",
      "877          878         0       3    male  19.0      0      0    7.8958   \n",
      "878          879         0       3    male   NaN      0      0    7.8958   \n",
      "879          880         1       1  female  56.0      0      1   83.1583   \n",
      "880          881         1       2  female  25.0      0      1   26.0000   \n",
      "881          882         0       3    male  33.0      0      0    7.8958   \n",
      "882          883         0       3  female  22.0      0      0   10.5167   \n",
      "883          884         0       2    male  28.0      0      0   10.5000   \n",
      "884          885         0       3    male  25.0      0      0    7.0500   \n",
      "885          886         0       3  female  39.0      0      5   29.1250   \n",
      "886          887         0       2    male  27.0      0      0   13.0000   \n",
      "887          888         1       1  female  19.0      0      0   30.0000   \n",
      "888          889         0       3  female   NaN      1      2   23.4500   \n",
      "889          890         1       1    male  26.0      0      0   30.0000   \n",
      "890          891         0       3    male  32.0      0      0    7.7500   \n",
      "\n",
      "    Embarked  \n",
      "0          S  \n",
      "1          C  \n",
      "2          S  \n",
      "3          S  \n",
      "4          S  \n",
      "5          Q  \n",
      "6          S  \n",
      "7          S  \n",
      "8          S  \n",
      "9          C  \n",
      "10         S  \n",
      "11         S  \n",
      "12         S  \n",
      "13         S  \n",
      "14         S  \n",
      "15         S  \n",
      "16         Q  \n",
      "17         S  \n",
      "18         S  \n",
      "19         C  \n",
      "20         S  \n",
      "21         S  \n",
      "22         Q  \n",
      "23         S  \n",
      "24         S  \n",
      "25         S  \n",
      "26         C  \n",
      "27         S  \n",
      "28         Q  \n",
      "29         S  \n",
      "..       ...  \n",
      "861        S  \n",
      "862        S  \n",
      "863        S  \n",
      "864        S  \n",
      "865        S  \n",
      "866        C  \n",
      "867        S  \n",
      "868        S  \n",
      "869        S  \n",
      "870        S  \n",
      "871        S  \n",
      "872        S  \n",
      "873        S  \n",
      "874        C  \n",
      "875        C  \n",
      "876        S  \n",
      "877        S  \n",
      "878        S  \n",
      "879        C  \n",
      "880        S  \n",
      "881        S  \n",
      "882        S  \n",
      "883        S  \n",
      "884        S  \n",
      "885        Q  \n",
      "886        S  \n",
      "887        S  \n",
      "888        S  \n",
      "889        C  \n",
      "890        Q  \n",
      "\n",
      "[891 rows x 9 columns])\n",
      "('Without NA:',      PassengerId  Survived  Pclass     Sex   Age  SibSp  Parch      Fare  \\\n",
      "0              1         0       3    male  22.0      1      0    7.2500   \n",
      "1              2         1       1  female  38.0      1      0   71.2833   \n",
      "2              3         1       3  female  26.0      0      0    7.9250   \n",
      "3              4         1       1  female  35.0      1      0   53.1000   \n",
      "4              5         0       3    male  35.0      0      0    8.0500   \n",
      "6              7         0       1    male  54.0      0      0   51.8625   \n",
      "7              8         0       3    male   2.0      3      1   21.0750   \n",
      "8              9         1       3  female  27.0      0      2   11.1333   \n",
      "9             10         1       2  female  14.0      1      0   30.0708   \n",
      "10            11         1       3  female   4.0      1      1   16.7000   \n",
      "11            12         1       1  female  58.0      0      0   26.5500   \n",
      "12            13         0       3    male  20.0      0      0    8.0500   \n",
      "13            14         0       3    male  39.0      1      5   31.2750   \n",
      "14            15         0       3  female  14.0      0      0    7.8542   \n",
      "15            16         1       2  female  55.0      0      0   16.0000   \n",
      "16            17         0       3    male   2.0      4      1   29.1250   \n",
      "18            19         0       3  female  31.0      1      0   18.0000   \n",
      "20            21         0       2    male  35.0      0      0   26.0000   \n",
      "21            22         1       2    male  34.0      0      0   13.0000   \n",
      "22            23         1       3  female  15.0      0      0    8.0292   \n",
      "23            24         1       1    male  28.0      0      0   35.5000   \n",
      "24            25         0       3  female   8.0      3      1   21.0750   \n",
      "25            26         1       3  female  38.0      1      5   31.3875   \n",
      "27            28         0       1    male  19.0      3      2  263.0000   \n",
      "30            31         0       1    male  40.0      0      0   27.7208   \n",
      "33            34         0       2    male  66.0      0      0   10.5000   \n",
      "34            35         0       1    male  28.0      1      0   82.1708   \n",
      "35            36         0       1    male  42.0      1      0   52.0000   \n",
      "37            38         0       3    male  21.0      0      0    8.0500   \n",
      "38            39         0       3  female  18.0      2      0   18.0000   \n",
      "..           ...       ...     ...     ...   ...    ...    ...       ...   \n",
      "856          857         1       1  female  45.0      1      1  164.8667   \n",
      "857          858         1       1    male  51.0      0      0   26.5500   \n",
      "858          859         1       3  female  24.0      0      3   19.2583   \n",
      "860          861         0       3    male  41.0      2      0   14.1083   \n",
      "861          862         0       2    male  21.0      1      0   11.5000   \n",
      "862          863         1       1  female  48.0      0      0   25.9292   \n",
      "864          865         0       2    male  24.0      0      0   13.0000   \n",
      "865          866         1       2  female  42.0      0      0   13.0000   \n",
      "866          867         1       2  female  27.0      1      0   13.8583   \n",
      "867          868         0       1    male  31.0      0      0   50.4958   \n",
      "869          870         1       3    male   4.0      1      1   11.1333   \n",
      "870          871         0       3    male  26.0      0      0    7.8958   \n",
      "871          872         1       1  female  47.0      1      1   52.5542   \n",
      "872          873         0       1    male  33.0      0      0    5.0000   \n",
      "873          874         0       3    male  47.0      0      0    9.0000   \n",
      "874          875         1       2  female  28.0      1      0   24.0000   \n",
      "875          876         1       3  female  15.0      0      0    7.2250   \n",
      "876          877         0       3    male  20.0      0      0    9.8458   \n",
      "877          878         0       3    male  19.0      0      0    7.8958   \n",
      "879          880         1       1  female  56.0      0      1   83.1583   \n",
      "880          881         1       2  female  25.0      0      1   26.0000   \n",
      "881          882         0       3    male  33.0      0      0    7.8958   \n",
      "882          883         0       3  female  22.0      0      0   10.5167   \n",
      "883          884         0       2    male  28.0      0      0   10.5000   \n",
      "884          885         0       3    male  25.0      0      0    7.0500   \n",
      "885          886         0       3  female  39.0      0      5   29.1250   \n",
      "886          887         0       2    male  27.0      0      0   13.0000   \n",
      "887          888         1       1  female  19.0      0      0   30.0000   \n",
      "889          890         1       1    male  26.0      0      0   30.0000   \n",
      "890          891         0       3    male  32.0      0      0    7.7500   \n",
      "\n",
      "    Embarked  \n",
      "0          S  \n",
      "1          C  \n",
      "2          S  \n",
      "3          S  \n",
      "4          S  \n",
      "6          S  \n",
      "7          S  \n",
      "8          S  \n",
      "9          C  \n",
      "10         S  \n",
      "11         S  \n",
      "12         S  \n",
      "13         S  \n",
      "14         S  \n",
      "15         S  \n",
      "16         Q  \n",
      "18         S  \n",
      "20         S  \n",
      "21         S  \n",
      "22         Q  \n",
      "23         S  \n",
      "24         S  \n",
      "25         S  \n",
      "27         S  \n",
      "30         C  \n",
      "33         S  \n",
      "34         C  \n",
      "35         S  \n",
      "37         S  \n",
      "38         S  \n",
      "..       ...  \n",
      "856        S  \n",
      "857        S  \n",
      "858        C  \n",
      "860        S  \n",
      "861        S  \n",
      "862        S  \n",
      "864        S  \n",
      "865        S  \n",
      "866        C  \n",
      "867        S  \n",
      "869        S  \n",
      "870        S  \n",
      "871        S  \n",
      "872        S  \n",
      "873        S  \n",
      "874        C  \n",
      "875        C  \n",
      "876        S  \n",
      "877        S  \n",
      "879        C  \n",
      "880        S  \n",
      "881        S  \n",
      "882        S  \n",
      "883        S  \n",
      "884        S  \n",
      "885        Q  \n",
      "886        S  \n",
      "887        S  \n",
      "889        C  \n",
      "890        Q  \n",
      "\n",
      "[712 rows x 9 columns])\n"
     ]
    }
   ],
   "source": [
    "print(\"With NA:\",df)\n",
    "df = df.dropna()\n",
    "print (\"Without NA:\",df)"
   ]
  },
  {
   "cell_type": "code",
   "execution_count": 33,
   "metadata": {
    "collapsed": true
   },
   "outputs": [],
   "source": [
    "dummies = []\n",
    "cols = ['Pclass','Sex','Embarked']\n",
    "for col in cols:\n",
    "    dummies.append(pd.get_dummies(df[col]))"
   ]
  },
  {
   "cell_type": "code",
   "execution_count": 34,
   "metadata": {
    "collapsed": true
   },
   "outputs": [],
   "source": [
    "titanic_dummies = pd.concat(dummies, axis=1)\n"
   ]
  },
  {
   "cell_type": "code",
   "execution_count": 35,
   "metadata": {
    "collapsed": true
   },
   "outputs": [],
   "source": [
    "df = pd.concat((df,titanic_dummies),axis=1)"
   ]
  },
  {
   "cell_type": "code",
   "execution_count": 36,
   "metadata": {
    "collapsed": true
   },
   "outputs": [],
   "source": [
    "df = df.drop(['Pclass','Sex','Embarked'],axis=1)"
   ]
  },
  {
   "cell_type": "code",
   "execution_count": 37,
   "metadata": {
    "collapsed": true
   },
   "outputs": [],
   "source": [
    "df['Age'] = df['Age'].interpolate()"
   ]
  },
  {
   "cell_type": "code",
   "execution_count": 38,
   "metadata": {
    "collapsed": true
   },
   "outputs": [],
   "source": [
    "X = df.values\n",
    "y = df['Survived'].values"
   ]
  },
  {
   "cell_type": "code",
   "execution_count": 39,
   "metadata": {
    "collapsed": true
   },
   "outputs": [],
   "source": [
    "X = np.delete(X,1,axis=1)\n"
   ]
  },
  {
   "cell_type": "code",
   "execution_count": 40,
   "metadata": {
    "collapsed": true
   },
   "outputs": [],
   "source": [
    "\n",
    "X_train, X_test, y_train, y_test = cross_validation.train_test_split(X,y,test_size=0.3,random_state=0)"
   ]
  },
  {
   "cell_type": "code",
   "execution_count": 41,
   "metadata": {},
   "outputs": [
    {
     "data": {
      "text/plain": [
       "0.76168224299065423"
      ]
     },
     "execution_count": 41,
     "metadata": {},
     "output_type": "execute_result"
    }
   ],
   "source": [
    "from sklearn import tree\n",
    "clf = tree.DecisionTreeClassifier(max_depth=5)\n",
    "clf.fit(X_train,y_train)\n",
    "clf.score(X_test,y_test)"
   ]
  },
  {
   "cell_type": "code",
   "execution_count": 42,
   "metadata": {
    "collapsed": true
   },
   "outputs": [],
   "source": [
    "X_results = df.values"
   ]
  },
  {
   "cell_type": "code",
   "execution_count": 43,
   "metadata": {},
   "outputs": [],
   "source": [
    "y_results = clf.predict(X)"
   ]
  },
  {
   "cell_type": "code",
   "execution_count": 44,
   "metadata": {},
   "outputs": [],
   "source": [
    "output = np.column_stack((X[:,0],y_results))\n",
    "df_results = pd.DataFrame(output.astype('int'),columns=['PassengerID','Survived'])\n",
    "df_results.to_csv('titanic_results.csv',index=False)"
   ]
  },
  {
   "cell_type": "code",
   "execution_count": null,
   "metadata": {
    "collapsed": true
   },
   "outputs": [],
   "source": []
  },
  {
   "cell_type": "code",
   "execution_count": null,
   "metadata": {
    "collapsed": true
   },
   "outputs": [],
   "source": []
  },
  {
   "cell_type": "code",
   "execution_count": null,
   "metadata": {
    "collapsed": true
   },
   "outputs": [],
   "source": []
  }
 ],
 "metadata": {
  "kernelspec": {
   "display_name": "Python 3",
   "language": "python",
   "name": "python3"
  },
  "language_info": {
   "codemirror_mode": {
    "name": "ipython",
    "version": 2
   },
   "file_extension": ".py",
   "mimetype": "text/x-python",
   "name": "python",
   "nbconvert_exporter": "python",
   "pygments_lexer": "ipython2",
   "version": "2.7.14"
  }
 },
 "nbformat": 4,
 "nbformat_minor": 2
}
